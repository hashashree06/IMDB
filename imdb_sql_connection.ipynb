{
 "cells": [
  {
   "cell_type": "code",
   "execution_count": null,
   "id": "3778d97c",
   "metadata": {},
   "outputs": [],
   "source": [
    "pip install mysql-connector-python"
   ]
  },
  {
   "cell_type": "code",
   "execution_count": 3,
   "id": "46879f57",
   "metadata": {},
   "outputs": [],
   "source": [
    "import mysql.connector"
   ]
  },
  {
   "cell_type": "code",
   "execution_count": 11,
   "id": "a679941b",
   "metadata": {},
   "outputs": [],
   "source": [
    "connection=mysql.connector.connect(host=\"gateway01.ap-southeast-1.prod.aws.tidbcloud.com\",           \n",
    "                              user=\"4TuZQhevixrKXDn.root\",              \n",
    "                              password=\"plut8plTY5XHB5ei\",      \n",
    "                              database=\"IMDB2\",\n",
    "                              allow_local_infile=True )     "
   ]
  },
  {
   "cell_type": "code",
   "execution_count": 12,
   "id": "d1ac6825",
   "metadata": {},
   "outputs": [],
   "source": [
    "cursor=connection.cursor()"
   ]
  },
  {
   "cell_type": "code",
   "execution_count": null,
   "id": "c2395166",
   "metadata": {},
   "outputs": [],
   "source": [
    "cursor.execute(\"CREATE DATABASE IMDB2\")"
   ]
  },
  {
   "cell_type": "code",
   "execution_count": 13,
   "id": "e3a655ab",
   "metadata": {},
   "outputs": [],
   "source": [
    "cursor.execute('use IMDB2')"
   ]
  },
  {
   "cell_type": "code",
   "execution_count": 15,
   "id": "356ee14e",
   "metadata": {},
   "outputs": [],
   "source": [
    "cursor.execute(\"CREATE TABLE movie_details( movie_id int,MOVIE_NAME varchar(100),RATING float,VOTING_COUNT int,DURATION int,GENRE varchar(25))\")"
   ]
  },
  {
   "cell_type": "code",
   "execution_count": 16,
   "id": "e7fdeed0",
   "metadata": {},
   "outputs": [],
   "source": [
    "sql_query = (\n",
    "    \"LOAD DATA LOCAL INFILE 'C:/Users/LENOVO/Desktop/IMDB/merged_data_final.csv' \"\n",
    "    \"INTO TABLE movie_details \"\n",
    "    \"FIELDS TERMINATED BY ',' \"\n",
    "    \"ENCLOSED BY '\\\"' \"\n",
    "    \"LINES TERMINATED BY '\\\\n' \"\n",
    "    \"IGNORE 1 LINES \"\n",
    "    \"(movie_id, MOVIE_NAME, RATING, VOTING_COUNT, DURATION, GENRE)\"\n",
    ")"
   ]
  },
  {
   "cell_type": "code",
   "execution_count": 17,
   "id": "88e10ddc",
   "metadata": {},
   "outputs": [],
   "source": [
    "cursor.execute(sql_query)"
   ]
  }
 ],
 "metadata": {
  "kernelspec": {
   "display_name": "Python 3",
   "language": "python",
   "name": "python3"
  },
  "language_info": {
   "codemirror_mode": {
    "name": "ipython",
    "version": 3
   },
   "file_extension": ".py",
   "mimetype": "text/x-python",
   "name": "python",
   "nbconvert_exporter": "python",
   "pygments_lexer": "ipython3",
   "version": "3.13.0"
  }
 },
 "nbformat": 4,
 "nbformat_minor": 5
}
